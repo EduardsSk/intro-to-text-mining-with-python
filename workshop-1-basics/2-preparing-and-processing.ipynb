{
 "cells": [
  {
   "cell_type": "markdown",
   "metadata": {
    "collapsed": true
   },
   "source": [
    "# Preparing and Processing Text using Python\n",
    "\n",
    "## 5 Steps of Text-Mining\n",
    "There is no set way to do text-mining, but typically a workflow will involve steps like these:\n",
    "1. Choosing and collecting your data\n",
    "2. Cleaning and preparing your data\n",
    "3. Exploring your data\n",
    "4. Analysing your data\n",
    "5. Presenting the results of your analysis\n",
    "\n",
    "You may go through these steps more than once to refine your data and results, and frequently steps may be merged together. The important thing to realise is that steps 1-2 are critical in ensuring your data is capable of actually answering your research questions. You are likely to spend significant time on cleaning and preparing your data.\n",
    "\n",
    "> **Rubbish in = rubbish out**\n",
    "\n",
    "This notebook covers steps 1-4. The next notebook `3-visualising-results.ipynb` will show step 5.\n",
    "\n",
    "## More Python Basics\n",
    "\n",
    "Before we start in earnest to code again, we need to cover a few more Python basics.\n",
    "\n",
    "### Imports\n",
    "\n",
    "Python has a lot of amazing capabilities built-in to the language itself, like being able to manipulate strings. However, in any Python project you are likely to want to use Python code written by someone else to go beyond the built-in capabilities. Code 'written by someone else' comes in the form of a file (or files) separate to the one you are currently working on.\n",
    "\n",
    "An external Python file (or sometimes groups of files) is called a **module** and in order to use them in your code, you need to **import** it.\n",
    "\n",
    "This is a simple process using a **keyword** called `import` and the name of the module. Just make sure that you `import` something _before_ you want to use it!"
   ]
  },
  {
   "cell_type": "code",
   "execution_count": 1,
   "metadata": {},
   "outputs": [
    {
     "name": "stdout",
     "output_type": "stream",
     "text": [
      "The Zen of Python, by Tim Peters\n",
      "\n",
      "Beautiful is better than ugly.\n",
      "Explicit is better than implicit.\n",
      "Simple is better than complex.\n",
      "Complex is better than complicated.\n",
      "Flat is better than nested.\n",
      "Sparse is better than dense.\n",
      "Readability counts.\n",
      "Special cases aren't special enough to break the rules.\n",
      "Although practicality beats purity.\n",
      "Errors should never pass silently.\n",
      "Unless explicitly silenced.\n",
      "In the face of ambiguity, refuse the temptation to guess.\n",
      "There should be one-- and preferably only one --obvious way to do it.\n",
      "Although that way may not be obvious at first unless you're Dutch.\n",
      "Now is better than never.\n",
      "Although never is often better than *right* now.\n",
      "If the implementation is hard to explain, it's a bad idea.\n",
      "If the implementation is easy to explain, it may be a good idea.\n",
      "Namespaces are one honking great idea -- let's do more of those!\n"
     ]
    }
   ],
   "source": [
    "import this"
   ]
  },
  {
   "cell_type": "markdown",
   "metadata": {},
   "source": [
    "Obviously, that is a trivial example. It simply prints out the philosophy of the Python programming language.\n",
    "\n",
    "You can also `import` modules and then use them:"
   ]
  },
  {
   "cell_type": "code",
   "execution_count": 4,
   "metadata": {},
   "outputs": [
    {
     "data": {
      "text/plain": [
       "3.141592653589793"
      ]
     },
     "execution_count": 4,
     "metadata": {},
     "output_type": "execute_result"
    }
   ],
   "source": [
    "import math\n",
    "math.pi"
   ]
  },
  {
   "cell_type": "code",
   "execution_count": 5,
   "metadata": {},
   "outputs": [
    {
     "data": {
      "text/plain": [
       "('en_GB', 'UTF-8')"
      ]
     },
     "execution_count": 5,
     "metadata": {},
     "output_type": "execute_result"
    }
   ],
   "source": [
    "import locale\n",
    "locale.getlocale()"
   ]
  },
  {
   "cell_type": "markdown",
   "metadata": {},
   "source": [
    "---\n",
    "#### Going Further: The Python Standard Library\n",
    "\n",
    "If you are interested in delving into everything that the Python language has to offer, you can browse the [Python standard library](https://docs.python.org/3/library/index.html) and try some of the modules there by importing them.\n",
    "\n",
    "---\n",
    "---\n",
    "#### Going Further: Python Package Index\n",
    "\n",
    "I have completely glossed over how you get hold of modules and libraries from other sources. The answer to this is by using the [Python Package Index](https://pypi.org/), known as PyPI, but that is out of the scope of this workshop. Feel free to go and learn about this yourself with the tutorial [What Is Pip? A Guide for New Pythonistas](https://realpython.com/what-is-pip/) from RealPython.\n",
    "\n",
    "---"
   ]
  },
  {
   "cell_type": "markdown",
   "metadata": {},
   "source": [
    "As you will see in the sections below, we will `import` the Natural Language Toolkit (or parts of it), which is a massive **library** of modules dedicated to working with natural language. A library is simply a *collection of modules*."
   ]
  },
  {
   "cell_type": "markdown",
   "metadata": {},
   "source": [
    "### Functions\n",
    "A function is a _reusable block of code_ that has been wrapped up and given a _name_. In order to run the code, we use the name followed by `()` parentheses. We have already seen this earlier. Here are all the functions (or methods) we have run so far:"
   ]
  },
  {
   "cell_type": "code",
   "execution_count": 6,
   "metadata": {},
   "outputs": [
    {
     "data": {
      "text/plain": [
       "'butterflies are important as pollinators.'"
      ]
     },
     "execution_count": 6,
     "metadata": {},
     "output_type": "execute_result"
    }
   ],
   "source": [
    "# 'lower()' is the function\n",
    "my_sentence = 'Butterflies are important as pollinators.'\n",
    "my_sentence.lower()"
   ]
  },
  {
   "cell_type": "code",
   "execution_count": 7,
   "metadata": {},
   "outputs": [
    {
     "data": {
      "text/plain": [
       "'BUTTERFLIES ARE IMPORTANT AS POLLINATORS.'"
      ]
     },
     "execution_count": 7,
     "metadata": {},
     "output_type": "execute_result"
    }
   ],
   "source": [
    "# 'upper()' is the function\n",
    "my_sentence.upper()"
   ]
  },
  {
   "cell_type": "code",
   "execution_count": 8,
   "metadata": {},
   "outputs": [
    {
     "data": {
      "text/plain": [
       "False"
      ]
     },
     "execution_count": 8,
     "metadata": {},
     "output_type": "execute_result"
    }
   ],
   "source": [
    "# 'isalpha()' is the function\n",
    "my_sentence.isalpha()"
   ]
  },
  {
   "cell_type": "code",
   "execution_count": 9,
   "metadata": {},
   "outputs": [
    {
     "data": {
      "text/plain": [
       "('en_GB', 'UTF-8')"
      ]
     },
     "execution_count": 9,
     "metadata": {},
     "output_type": "execute_result"
    }
   ],
   "source": [
    "# 'getlocale()' is the function\n",
    "locale.getlocale()"
   ]
  },
  {
   "cell_type": "markdown",
   "metadata": {},
   "source": [
    "Essentially, you can think of a function as a box. You put an input into the box, the box does something with it, and then the box gives you back an output. You generally don't need to worry _how_ the function does what it does (unless you really want to, in which case you can look at its code). You just know that it works."
   ]
  },
  {
   "cell_type": "markdown",
   "metadata": {},
   "source": [
    "---\n",
    "#### Going Further: Functions and Methods\n",
    "There is a technical difference between functions and methods. You don't need to worry about the distinction for our workshop. We will treat all functions and methods as the same.\n",
    "\n",
    "If you are interested in learning more about functions and methods try this [Datacamp Python Functions Tutorial](https://www.datacamp.com/community/tutorials/functions-python-tutorial).\n",
    "\n",
    "---"
   ]
  },
  {
   "cell_type": "markdown",
   "metadata": {},
   "source": [
    "#### Functions that Take Arguments\n",
    "If we need to pass particular information to a function, we put that information _in between_ the `()`. Like this:"
   ]
  },
  {
   "cell_type": "code",
   "execution_count": 11,
   "metadata": {},
   "outputs": [
    {
     "data": {
      "text/plain": [
       "5.0"
      ]
     },
     "execution_count": 11,
     "metadata": {},
     "output_type": "execute_result"
    }
   ],
   "source": [
    "# Calculate the square root of 25\n",
    "math.sqrt(25)"
   ]
  },
  {
   "cell_type": "markdown",
   "metadata": {},
   "source": [
    "The `25` is the value we want to pass to the `sqrt()` function so it can do its work. This value is called an **argument** to the function. Functions may take any number of arguments, depending on what the function accepts.\n",
    "\n",
    "Here is another function with an argument:"
   ]
  },
  {
   "cell_type": "code",
   "execution_count": 25,
   "metadata": {},
   "outputs": [
    {
     "data": {
      "text/plain": [
       "'<!DOCTYPE html>\\n<html lang=\"mul\" class=\"no-js\">\\n<head>\\n<meta charset=\"utf-8\">\\n<title>Wikipedia</title>\\n<meta name=\"description\" content=\"Wikipedia is a free online encyclopedia, created and edited by volunteers around the world and hosted by the Wikimedia Foundation.\">\\n'"
      ]
     },
     "execution_count": 25,
     "metadata": {},
     "output_type": "execute_result"
    }
   ],
   "source": [
    "# Get the text of a webpage (but only the first 270 characters)\n",
    "import requests\n",
    "r = requests.get('https://www.wikipedia.org/')\n",
    "r.text[0:270]"
   ]
  },
  {
   "cell_type": "markdown",
   "metadata": {},
   "source": [
    "The string `'https://www.wikipedia.org/'` is the argument we want to pass to the `get()` function for it to open the webpage and read it for us.\n",
    "\n",
    "Why not try your own URL? What explains the strange appearance of this text?"
   ]
  },
  {
   "cell_type": "markdown",
   "metadata": {},
   "source": [
    "## Step 1: Choosing and Collecting Your Data\n",
    "No matter your research subject, you need to be aware of the many issues of electronic data collection. We cannot cover them all here, but you should ask yourself some questions as you start to collect data, such as:\n",
    "* What sort of data do I need to answer my research questions?\n",
    "* What data is available?\n",
    "* What is the quality of the data?\n",
    "* How can I get the data?\n",
    "* Am I allowed to use it for text-mining?\n",
    "\n",
    "### A Simple Example: Top Words Used in Homer's Iliad\n",
    "\n",
    "Our research question will be:\n",
    "\n",
    "> What are the top 10 words used in Homer's Iliad in English translation?\n",
    "\n",
    "#### What sort of data do I need to answer my research questions?\n",
    "\n",
    "I need a copy of Homer's Iliad in English translation. In this instance, I am not bothered by which translation.\n",
    "\n",
    "#### What data is available?\n",
    "\n",
    "[Project Gutenberg](http://www.gutenberg.org/) is the first provider of free electronic books and has over 58,000. \"You will find the world's great literature here, with focus on older works for which U.S. copyright has expired. Thousands of volunteers digitized and diligently proofread the eBooks, for enjoyment and education.\"\n",
    "\n",
    "Here is Homer's Iliad, translated by Alexander Pope in 1899: http://www.gutenberg.org/ebooks/6130\n",
    "\n",
    "#### What is the quality of the data?\n",
    "\n",
    "Variable. Some books have been digitised by OCR ([Optical Character Recognition](https://en.wikipedia.org/wiki/Optical_character_recognition)) and remain uncorrected by their volunteers, but a quick look at this file shows that it is excellent quality.\n",
    "\n",
    "#### How can I get the data?\n",
    "\n",
    "Project Gutenberg clearly states on their [Terms of Use](http://www.gutenberg.org/wiki/Gutenberg:Terms_of_Use) that their website is 'intended for human users only'. If you want to use code to get their data you must use one of their [mirror sites](http://www.gutenberg.org/MIRRORS.ALL) -- you should pick the one that is nearest to your location.\n",
    "\n",
    "We will be using the text file at http://www.mirrorservice.org/sites/ftp.ibiblio.org/pub/docs/books/gutenberg/6/1/3/6130/6130-8.txt\n",
    "\n",
    "#### Am I allowed to use it for text-mining?\n",
    "\n",
    "Project Gutenberg says in their [Permission: How To](http://www.gutenberg.org/wiki/Gutenberg:Permission_How-To) that \"The vast majority of Project Gutenberg eBooks are in the public domain in the US.\" However, since UK copyright is different from US copyright, we still have to check for ourselves. This is a complicated area, but broadly we can say that UK copyright expires 70 years after the death of the author. Since [Alexander Pope](https://en.wikipedia.org/wiki/Alexander_Pope) died in 1744, we are probably ok to use his work.\n",
    "\n",
    "### Getting a Copy of the Homer's Iliad Text\n",
    "We saw above that we can use a Python library called `requests` to get webpages! We can therefore get a copy of the text file like this:"
   ]
  },
  {
   "cell_type": "code",
   "execution_count": 46,
   "metadata": {},
   "outputs": [
    {
     "data": {
      "text/plain": [
       "'It is on the coast, at\\r\\nsome distance from the city, northward, and appears to have been an open\\r\\ntemple of Cybele, formed on the top of a rock. The shape is oval, and in\\r\\nthe centre is the image of the goddess, the head and an arm wanting. She\\r\\nis represented, as usual, sitting. The chair has a lion carved on each\\r\\nside, and on the back. The area is bounded by a low rim, or seat, and\\r\\nabout five yards over. The whole is hewn out of the mountain, is rude,\\r\\nindistinct, and probably of the '"
      ]
     },
     "execution_count": 46,
     "metadata": {},
     "output_type": "execute_result"
    }
   ],
   "source": [
    "r = requests.get('http://www.mirrorservice.org/sites/ftp.ibiblio.org/pub/docs/books/gutenberg/6/1/3/6130/6130-8.txt')\n",
    "iliad = r.text\n",
    "# Print a section of the text from the middle\n",
    "iliad[18007:18500]"
   ]
  },
  {
   "cell_type": "markdown",
   "metadata": {},
   "source": [
    "We can find out how many characters the file has by using the `len()` function."
   ]
  },
  {
   "cell_type": "code",
   "execution_count": 39,
   "metadata": {},
   "outputs": [
    {
     "data": {
      "text/plain": [
       "1201763"
      ]
     },
     "execution_count": 39,
     "metadata": {},
     "output_type": "execute_result"
    }
   ],
   "source": [
    "len(iliad)"
   ]
  },
  {
   "cell_type": "markdown",
   "metadata": {},
   "source": [
    "## Steps 2 and 3: Cleaning and Exploring Your Data\n",
    "We are going to combine these two steps in this workshop.\n",
    "### Inspecting and Preparing the Text\n",
    "The first thing to do is inspect the text and see what might need sorting out. Looking again at the text by eye (http://www.mirrorservice.org/sites/ftp.ibiblio.org/pub/docs/books/gutenberg/6/1/3/6130/6130-8.txt) you can see that the book starts with a load of front matter we don't want.\n",
    "\n",
    "The book actually starts after the text \"`***START OF THE PROJECT GUTENBERG EBOOK THE ILIAD OF HOMER***`\":"
   ]
  },
  {
   "cell_type": "code",
   "execution_count": 45,
   "metadata": {},
   "outputs": [
    {
     "data": {
      "text/plain": [
       "'\\r\\n\\r\\n\\r\\n\\r\\n\\r\\n\\r\\nThe Iliad of Homer\\r\\n\\r\\n\\r\\nTranslated by Alexander Pope,\\r\\n\\r\\nwith notes by the\\r\\nRev. Theodore Alois Buckley, M.A., F.S.A.\\r\\n\\r\\nand\\r\\n\\r\\nFlaxman'"
      ]
     },
     "execution_count": 45,
     "metadata": {},
     "output_type": "execute_result"
    }
   ],
   "source": [
    "# Book contents starts at character 553\n",
    "iliad[553:700]"
   ]
  },
  {
   "cell_type": "markdown",
   "metadata": {},
   "source": [
    "There is also unwanted matter at the end after \"`***END OF THE PROJECT GUTENBERG EBOOK THE ILIAD OF HOMER***`\" that we should get rid of too."
   ]
  },
  {
   "cell_type": "markdown",
   "metadata": {},
   "source": [
    "---\n",
    "#### Going Further: OCR Errors\n",
    "We are very fortunate that this text does not suffer from common OCR errors, where the OCR process has 'transcribed' the text incorrectly. We won't be covering what to do about this in this workshop, but if you are curious you can read more about how the British Library has dealt with this in a blog post [Dealing with Optical Character Recognition errors in Victorian newspapers](https://blogs.bl.uk/digital-scholarship/2016/07/dealing-with-optical-character-recognition-errors-in-victorian-newspapers.html).\n",
    "\n",
    "---"
   ]
  },
  {
   "cell_type": "markdown",
   "metadata": {},
   "source": [
    "### Creating and Preparing a Local Copy\n",
    "\n",
    "It is not very efficient to keep making web requests to Project Gutenberg, especially with a very large corpus. I have therefore downloaded a copy for us and placed it in our project. We will use this local copy instead from now on.\n",
    "\n",
    "I have also taken some steps to prepare the file on your behalf, to save us some time. In the spirit of full transparency and documentation here is what I have done:\n",
    "\n",
    "* Removed the unwanted Gutenberg-related matter at the front and back of the book\n",
    "* Converted the character encoding from 'ISO 8859-1' to 'UTF-8'\n",
    "\n",
    "You don't need to worry about the details of _character encoding_ for this workshop. You only need to know that Python works most easily with UTF-8 files and so we must have the file in that encoding to avoid problems."
   ]
  },
  {
   "cell_type": "markdown",
   "metadata": {},
   "source": [
    "---\n",
    "#### Going Further: Character Encoding\n",
    "Character encoding is a very important topic, but it is not an easy one. If you end up dealing with a lot of text files in building up your corpus you will have to be aware that dealing with files that have different, or unknown, character encodings can get very messy. If you don't know, or wrongly assume the character encoding of a file you can end up with this sort of thing: ࡻࢅ࢖\n",
    "\n",
    "``\n",
    "\n",
    "---"
   ]
  },
  {
   "cell_type": "markdown",
   "metadata": {},
   "source": [
    "\n",
    "\n",
    "### Step 3: Exploring Your Data\n",
    "\n",
    "* Steps 2 and 3: cleaning/preparing and exploring - these often go together as you need to explore your text to understand how best to clean it - cleaning (normalisation (case, punctuation), stopwords, tokenising) - input/output\n",
    "\n",
    "## Steps 4: Analysing Your Data with Frequency Analysis\n",
    "\n",
    "* Step 4: analysing your data - frequency distributions - counting words\n",
    "\n",
    "\n",
    "\n",
    "\n",
    "Need to simplify the following steps (but perhaps with Going Further activities) so that people can actually have a go rather than just following along."
   ]
  },
  {
   "cell_type": "code",
   "execution_count": null,
   "metadata": {},
   "outputs": [],
   "source": []
  },
  {
   "cell_type": "code",
   "execution_count": null,
   "metadata": {},
   "outputs": [],
   "source": []
  },
  {
   "cell_type": "code",
   "execution_count": null,
   "metadata": {},
   "outputs": [],
   "source": []
  },
  {
   "cell_type": "code",
   "execution_count": null,
   "metadata": {},
   "outputs": [],
   "source": []
  }
 ],
 "metadata": {
  "kernelspec": {
   "display_name": "Python 3",
   "language": "python",
   "name": "python3"
  },
  "language_info": {
   "codemirror_mode": {
    "name": "ipython",
    "version": 3
   },
   "file_extension": ".py",
   "mimetype": "text/x-python",
   "name": "python",
   "nbconvert_exporter": "python",
   "pygments_lexer": "ipython3",
   "version": "3.6.7"
  }
 },
 "nbformat": 4,
 "nbformat_minor": 1
}
